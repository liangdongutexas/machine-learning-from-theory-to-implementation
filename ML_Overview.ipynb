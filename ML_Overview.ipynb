{
 "cells": [
  {
   "cell_type": "markdown",
   "metadata": {},
   "source": [
    "# Machine Learning and Statistics\n",
    "## Table of Contents\n",
    "1. [General principles in Machine Learning](#principles)\n",
    "2. [General theory of statistics](#statistics)\n",
    "3. [Machine Learning Models: Theory and Algorithm](#theory)"
   ]
  },
  {
   "cell_type": "markdown",
   "metadata": {
    "slideshow": {
     "slide_type": "slide"
    }
   },
   "source": [
    "## General principles in Machine Learning <a name=\"principles\"></a>\n",
    "* **what is?** Machine learning is an application of artificial intelligence (AI) that provides systems the ability to automatically learn and improve from experience **without** being explicitly programmed.\n",
    "* **examples:**\n",
    "\n",
    "![](images/Machine-Learning.png)"
   ]
  },
  {
   "cell_type": "markdown",
   "metadata": {
    "slideshow": {
     "slide_type": "slide"
    }
   },
   "source": [
    "### Machine learning, Data Science and AI\n",
    "<img src=\"images/ml_ds_ai.png\" alt=\"drawing\" width=\"400\"/>"
   ]
  },
  {
   "cell_type": "markdown",
   "metadata": {
    "slideshow": {
     "slide_type": "slide"
    }
   },
   "source": [
    "### Machine learning and Physics\n",
    "* **Common**: \n",
    "    * goal: seek a quantitative \"model\" or \"theory\" to explain or predict a natural phenomenon.\n",
    "    * methodology: from given data derive a generalized \"model\" or \"theory\"\n",
    "* **Difference**: \n",
    "    * goal: \n",
    "        * physics: a theory about everything\n",
    "        * data science: a model about a particular domain of problems: natural language processing, computer vision \n",
    "    * reductionism or not: \n",
    "        * physics: complex phenomenon viewed as a collection of simpler phenomena, e.g, strongly interacting systems as a collection of weakly interacting quasiparticles\n",
    "        * machine learning: find pattern among data coming from a particular domain of problem without much referring to related problems"
   ]
  },
  {
   "cell_type": "markdown",
   "metadata": {
    "slideshow": {
     "slide_type": "slide"
    }
   },
   "source": [
    "### Bias and variance tradeoff\n",
    "* Bias: preassumption of the model about the property of the problem \n",
    "* Variance: flexibility of the model to adapt to a wider range of problems\n",
    "\n",
    "Ideally, we want correct strong bias and low variance."
   ]
  },
  {
   "cell_type": "markdown",
   "metadata": {},
   "source": [
    "#### **why bias is needed**?\n",
    "**No free lunch theorem**: It states that any two optimization algorithms are equivalent when their performance is averaged across all possible problems.\n",
    "\n",
    "**Example**: (wikipedia)\n",
    "\n",
    "Posit a toy universe that exists for exactly two days and on each day contains exactly one object, a square or a triangle. The universe has exactly four possible histories:\n",
    "1. (square, triangle): the universe contains a square on day 1, and a triangle on day 2\n",
    "2. (square, square)\n",
    "3. (triangle, triangle)\n",
    "4. (triangle, square)\n",
    "\n",
    "Any prediction strategy that succeeds for history #2, by predicting a square on day 2 if there is a square on day 1, will fail on history, and vice versa. If all histories are equally likely, then any prediction strategy will score the same, with the same accuracy rate of 0.5."
   ]
  },
  {
   "cell_type": "markdown",
   "metadata": {},
   "source": [
    "Thus assumptions about the property of a problem must be introduced to make a model better than random guessing. "
   ]
  },
  {
   "cell_type": "markdown",
   "metadata": {},
   "source": [
    "#### **why lower variance**?\n",
    "**Simplicity**\n",
    "\n",
    "**Occam's razor**: If two algorithms can explain the sample with similar accuracy, the one which is simpler generate better.\n",
    "\n",
    "This claim can be justified if the universe we live in contains problem that is biased and our human mind evolves successfully to solve those problems. Then if a model is easy to understand, it means this model has a similar bias as our mind so higher chance of being applicable to a practical problem."
   ]
  },
  {
   "cell_type": "markdown",
   "metadata": {},
   "source": [
    "#### **Tradeoff**\n",
    "Strong bias and lower bias means higher chance of misassumption while the opposite means lower model generalization power, e.g., picking up noises.\n",
    "\n",
    "![Bias Variance tradeoff](images/bias_variance.png)"
   ]
  },
  {
   "cell_type": "markdown",
   "metadata": {},
   "source": [
    "**In the following, we explore classical machine learning models: both their theory and implementation with code.**\n",
    "\n",
    "**In the part [Theory](#theory), the theoretical aspect of the classical machine learning models is studied with mathematical argument and possible research directions.**\n",
    "\n",
    "**In the part [Algorithms](#implementation), the code implementation is discussed in details as well as system design.**\n",
    "\n",
    "**Finally, the code is compiled into a library called [my_ml_lib](my_ml_lib/)**\n"
   ]
  },
  {
   "cell_type": "markdown",
   "metadata": {},
   "source": [
    "## Theory and Algorithm<a name=\"theory\"></a>"
   ]
  },
  {
   "cell_type": "markdown",
   "metadata": {},
   "source": [
    "1. Supervised Learning\n",
    "    * Linear models\n",
    "        * [theory](Theory_Algorithms/linear_models/linear_models_theory.ipynb)\n",
    "        * [algorithm](Theory_Algorithms/linear_models/linear_models_algorithm.ipynb)\n",
    "    * Tree based models\n",
    "        * Basic Decision Tree\n",
    "            * [theory](Theory_Algorithms/tree_based_models/Decision_Tree/decision_tree_theory.ipynb)\n",
    "            * [algorithm](Theory_Algorithms/tree_based_models/Decision_Tree/decision_tree_algorithm.ipynb)\n",
    "        * XGBoost\n",
    "            * [theory](Theory_Algorithms/tree_based_models/xgboost/xgboost_theory.ipynb)\n",
    "            * [algorithm](Theory_Algorithms/tree_based_models/xgboost/xgboost_algorithm.ipynb)\n",
    "    * [Support vector machine theory](Theory_Algorithms/SVM/SVM.ipynb)\n",
    "    * [Bayesian models theory](Theory_Algorithms/Bayes/Bayes.ipynb)\n",
    "    * [time-series theory](Theory_Algorithms/time_series/Time_Series_Theory.ipynb)\n",
    "2. Unsupervised Learning\n",
    "    * [K-means and Gaussian Mixture Model theory](Theory_Algorithms/K-means_GMM/K-means_GMM.ipynb)\n",
    "\n",
    "3. Online Machine Learning\n",
    "    * [theory](Theory_Algorithms/Online_ML/OML_theory.ipynb)\n",
    "    * [algorithm](Theory_Algorithms/Online_ML/OML_algorithm.ipynb)\n",
    "4. [MCMC](Theory_Algorithms/MCMC/MCMC.ipynb)"
   ]
  },
  {
   "cell_type": "markdown",
   "metadata": {},
   "source": []
  },
  {
   "cell_type": "code",
   "execution_count": null,
   "metadata": {},
   "outputs": [],
   "source": []
  }
 ],
 "metadata": {
  "kernelspec": {
   "display_name": "Python 3",
   "language": "python",
   "name": "python3"
  },
  "language_info": {
   "codemirror_mode": {
    "name": "ipython",
    "version": 3
   },
   "file_extension": ".py",
   "mimetype": "text/x-python",
   "name": "python",
   "nbconvert_exporter": "python",
   "pygments_lexer": "ipython3",
   "version": "3.8.3"
  }
 },
 "nbformat": 4,
 "nbformat_minor": 4
}
