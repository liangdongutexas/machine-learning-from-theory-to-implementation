{
 "cells": [
  {
   "cell_type": "markdown",
   "metadata": {},
   "source": [
    "XGboost essentially is multiple trees trained in time order with each tree trying to predict the residual between outcome and the sum of predictions given by previous trees. So if with each newly added tree, the target outcome is updated as well, then for each step the training process is no difference from that of a single tree."
   ]
  },
  {
   "cell_type": "markdown",
   "metadata": {},
   "source": [
    "Then the key point is to update the outcome. This is done by the attribute self.XY_mul and self.update_Y method. \n",
    "\n",
    "* step 1: self.XY_mul first makes d copies of the original data with d the number of features and sort the data according to each feature. Then this attribute is given a decision tree for training. During the training process, the subspace of self.XY_mul at each tree node is denoted by the index of the subspace and stored on the tree node attribute.  \n",
    "* step 2: the update_Y method finds the leaf node of the trained tree and update the outcome of the subsample on that leaf node utilizing the index stored on the node. "
   ]
  },
  {
   "cell_type": "markdown",
   "metadata": {},
   "source": [
    "# XGboost"
   ]
  },
  {
   "cell_type": "code",
   "execution_count": 1,
   "metadata": {},
   "outputs": [],
   "source": [
    "def xgboost_tree_decorator(regression_tree,max_num_trees=10):\n",
    "    class xgboost_tree():\n",
    "        \"\"\"\n",
    "        X=np.array(shape=[samplesize,feature])\n",
    "        Y=np.array(shape=[samplesize])\n",
    "        feature_name_type=np.array([(name,'c'/'d')...])\n",
    "        where 'c' respresents continuous variabl and 'd' represents discrete variable\n",
    "        \"\"\"\n",
    "        def __init__(self,max_num_trees=max_num_trees):\n",
    "            self.max_num_trees=max_num_trees          \n",
    "\n",
    "\n",
    "        def fit(self,X,Y,feature_name_dtype):\n",
    "\n",
    "            # just to store the root of the tree \n",
    "            # consistent check whether the shape of inputs are expected:\n",
    "            condition1= ((len(np.shape(X))==2)\n",
    "                        and (len(np.shape(feature_name_dtype))==2))         \n",
    "            condition2= ((np.shape(X)[0]==np.shape(Y)[0]) \n",
    "                         and (np.shape(X)[1]==np.shape(feature_name_dtype)[0]))\n",
    "\n",
    "            if condition1 and condition2:\n",
    "                if len(np.shape(Y))==1: \n",
    "                    Y = np.expand_dims(Y, axis=1)\n",
    "\n",
    "                # Add Y,g,h as last columns to X so easier to split them together\n",
    "                XY = np.concatenate((X, Y), axis=1)\n",
    "\n",
    "            else:\n",
    "                raise ValueError('The shapes of inputs are not compatible')\n",
    "\n",
    "            # store data \n",
    "            self.XY_mul=np.array([sorted(XY,key=lambda unit: unit[i]) for i in range(X.shape[1])])\n",
    "            self.trees=[]\n",
    "            self.feature_name_dtype=feature_name_dtype\n",
    "            \n",
    "        \n",
    "                  \n",
    "            for i in range(self.max_num_trees):\n",
    "                tree_i=regression_tree()\n",
    "                tree_i.gamma=tree_i.gamma/(i+1)\n",
    "                tree_i.fit(XY_mul=self.XY_mul,feature_name_dtype=feature_name_dtype)\n",
    "                self.update_Y(tree_i.root)\n",
    "                self.trees.append(tree_i)\n",
    "                                        \n",
    "            # release memory\n",
    "            self.XY_mul=0\n",
    "\n",
    "\n",
    "        def predict(self,X):\n",
    "            result=np.zeros((len(X)))\n",
    "            for tree_i in self.trees:\n",
    "                result+=tree_i.predict(X)\n",
    "                \n",
    "            return result \n",
    "        \n",
    "        def plot_tree(self):\n",
    "            dot = Digraph(comment='XGboost Trees')\n",
    "            for tree_i in self.trees:\n",
    "                dot.subgraph(tree_i.export_graphviz())\n",
    "            dot.render(view=True)\n",
    "        \n",
    "        def update_Y(self,node):\n",
    "            if node.true is None:\n",
    "                y_hat=node.predict(self.XY_mul[node.sample_index][:,:-1])     \n",
    "                y_hat=np.expand_dims(y_hat,axis=1)\n",
    "                zeros=np.zeros((len(y_hat),len(self.feature_name_dtype)))\n",
    "                y_hat=np.concatenate((zeros,y_hat),axis=1)      \n",
    "                self.XY_mul[node.sample_index]-=y_hat\n",
    "                node.sampel_index=None\n",
    "            else:\n",
    "                node.sampel_index=None\n",
    "                self.update(node.true)\n",
    "                self.update(node.false)\n",
    "                      \n",
    "    return xgboost_tree"
   ]
  }
 ],
 "metadata": {
  "kernelspec": {
   "display_name": "Python 3",
   "language": "python",
   "name": "python3"
  },
  "language_info": {
   "codemirror_mode": {
    "name": "ipython",
    "version": 3
   },
   "file_extension": ".py",
   "mimetype": "text/x-python",
   "name": "python",
   "nbconvert_exporter": "python",
   "pygments_lexer": "ipython3",
   "version": "3.8.3"
  }
 },
 "nbformat": 4,
 "nbformat_minor": 4
}
