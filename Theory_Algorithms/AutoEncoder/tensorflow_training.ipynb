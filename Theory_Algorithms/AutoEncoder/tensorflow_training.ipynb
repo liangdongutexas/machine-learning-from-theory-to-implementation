{
 "cells": [
  {
   "cell_type": "markdown",
   "metadata": {},
   "source": [
    "# The following cell is the model class. \n",
    "Its __call__ method returns the predicted FPS according to aformentioned formula.\n",
    "Its load_variables method loads previously trained parameters which will be used by the __call__ method to make predictions."
   ]
  },
  {
   "cell_type": "code",
   "execution_count": 1,
   "metadata": {},
   "outputs": [],
   "source": [
    "import tensorflow as tf\n",
    "import numpy as np\n",
    "import matplotlib.pyplot as plt"
   ]
  },
  {
   "cell_type": "code",
   "execution_count": 2,
   "metadata": {},
   "outputs": [],
   "source": [
    "class layer():\n",
    "    def __init__(self,shape=None,activation=None):\n",
    "        self.shape=shape\n",
    "        self.activation=activation"
   ]
  },
  {
   "cell_type": "code",
   "execution_count": 3,
   "metadata": {},
   "outputs": [],
   "source": [
    "class train_action():\n",
    "    def __init__(self):\n",
    "        \n",
    "        # define all the metric loss functions\n",
    "        self.losses={'binary_crossentropy':tf.keras.losses.binary_crossentropy,\n",
    "          'MSE': tf.keras.losses.MSE,'CategoricalCrossentropy':tf.keras.losses.CategoricalCrossentropy}\n",
    "        \n",
    "    ## uses tensorflow to do backpropagation onece for each epoch.\n",
    "    def train_one_step(self,X,Y):\n",
    "        with tf.GradientTape() as tape:\n",
    "            predict = self.predict(X)\n",
    "            loss=self.compute_loss(predict, Y)\n",
    "            optimizer=self.optimizer\n",
    "            # compute gradient\n",
    "            grads = tape.gradient(loss, self.trainable_variables)\n",
    "            # update to weights\n",
    "            optimizer.apply_gradients(zip(grads, self.trainable_variables))   \n",
    "        \n",
    "     \n",
    "    def compute_loss(self,predict, Y):       \n",
    "        return self.losses[self.loss](predict,Y)\n",
    "    \n",
    "    def save_model(self,filename):\n",
    "        stored_variables=np.array([i.numpy() for i in self.trainable_variables])\n",
    "        np.save(filename, stored_variables,allow_pickle=True, fix_imports=True)\n",
    "        print('model has been saved')"
   ]
  },
  {
   "cell_type": "code",
   "execution_count": 4,
   "metadata": {},
   "outputs": [],
   "source": [
    "## shape is a list of tuples.\n",
    "## The i_th element represents the tensor structure of the i_th layer.\n",
    "## The 0_th element represents the shape of the input.\n",
    "## The -1_th element represents the shape of the output.\n",
    "class sequential(train_action):\n",
    "    \n",
    "    def __init__(self,layers):       \n",
    "        super().__init__()\n",
    "        \n",
    "        ## attribute cannot be a function but can be a dictionary of functions.\n",
    "        self.activations={'relu':tf.keras.activations.relu,'elu':tf.keras.activations.elu,\\\n",
    "            'sigmoid':tf.keras.activations.sigmoid, 'selu': tf.keras.activations.selu}\n",
    "\n",
    "        \n",
    "        self.layers=layers\n",
    "        self.weights=[]\n",
    "        self.bias=[]\n",
    "        self.trainable_variables=[]\n",
    "\n",
    "        for i in range(len(layers)-1):\n",
    "            weight=tf.Variable(tf.random.truncated_normal(shape=self.layers[i].shape+self.layers[i+1].shape))\n",
    "            bias=tf.Variable(tf.zeros(shape=self.layers[i+1].shape))\n",
    "            self.weights.append(weight) \n",
    "            self.bias.append(bias) \n",
    "        self.trainable_variables=self.weights+self.bias\n",
    "        \n",
    "    def predict(self,X=None):\n",
    "        X=tf.cast(X,tf.float32)\n",
    "        Y=X\n",
    "        for i in range(0,len(self.layers)-1): #i is the layer we are right now and the\n",
    "                                              # data will propagate to the next layer\n",
    "                                              # so the we should use the activation function in the next layer \n",
    "            \n",
    "            # the shape of current layer, the first one is the batch size\n",
    "            backdim=self.layers[i].shape \n",
    "            \n",
    "            # the shape of next layer\n",
    "            frontdim=self.layers[i+1].shape      \n",
    "            bl=len(backdim)\n",
    "            \n",
    "            \n",
    "            Y=tf.tensordot(Y,self.weights[i],\\\n",
    "                           axes=[np.arange(1,bl+1),np.arange(0,bl)])+self.bias[i]\n",
    "            if self.layers[i+1].activation:\n",
    "                Y=self.activations[self.layers[i+1].activation](Y)\n",
    "             \n",
    "\n",
    "\n",
    "        return Y\n",
    "    \n",
    "    def compile(self,loss=None,optimizer=None):\n",
    "        # loss is string name of the tf.keras.losses functions\n",
    "        # optimizer is a class for most cases in tensorflow, so the optimizer here is a class\n",
    "        self.loss=loss\n",
    "        self.optimizer=optimizer\n",
    "        \n",
    "    def train(self,X,Y,epochs=10,save_name=None):\n",
    "        \n",
    "        for epoch in range(epochs): \n",
    "            predict=self.predict(X)\n",
    "            print('for epoch {}, {} is {}'.format(epoch,self.loss,self.compute_loss(predict,Y)))\n",
    "            self.train_one_step(X,Y)  \n",
    "        if save_name:\n",
    "            self.save_model(save_name)\n",
    "        \n",
    "    "
   ]
  },
  {
   "cell_type": "code",
   "execution_count": null,
   "metadata": {},
   "outputs": [],
   "source": []
  },
  {
   "cell_type": "code",
   "execution_count": 5,
   "metadata": {},
   "outputs": [],
   "source": [
    "(X_train,y_train),(X_test,y_test)=tf.keras.datasets.fashion_mnist.load_data()"
   ]
  },
  {
   "cell_type": "code",
   "execution_count": 6,
   "metadata": {},
   "outputs": [],
   "source": [
    "X_train=X_train[:5000]/255.0"
   ]
  },
  {
   "cell_type": "code",
   "execution_count": null,
   "metadata": {},
   "outputs": [],
   "source": []
  },
  {
   "cell_type": "code",
   "execution_count": 7,
   "metadata": {},
   "outputs": [],
   "source": [
    "layers=[layer(shape=(28,28)),layer(shape=(100,),activation='selu'),\\\n",
    "        layer(shape=(30,),activation='selu'),layer(shape=(100,),activation='selu'),\n",
    "       layer(shape=(28,28),activation='sigmoid')]"
   ]
  },
  {
   "cell_type": "code",
   "execution_count": null,
   "metadata": {},
   "outputs": [],
   "source": []
  },
  {
   "cell_type": "code",
   "execution_count": 8,
   "metadata": {},
   "outputs": [],
   "source": [
    "testmodel=model(layers)"
   ]
  },
  {
   "cell_type": "code",
   "execution_count": 9,
   "metadata": {},
   "outputs": [],
   "source": [
    "testmodel.compile(loss='binary_crossentropy',optimizer=tf.keras.optimizers.SGD(lr=1.5))"
   ]
  },
  {
   "cell_type": "code",
   "execution_count": 10,
   "metadata": {},
   "outputs": [
    {
     "name": "stdout",
     "output_type": "stream",
     "text": [
      "WARNING:tensorflow:From F:\\programs\\envs\\tf-gpu-2.0\\lib\\site-packages\\tensorflow_core\\python\\ops\\math_ops.py:4022: setdiff1d (from tensorflow.python.ops.array_ops) is deprecated and will be removed after 2018-11-30.\n",
      "Instructions for updating:\n",
      "This op will be removed after the deprecation date. Please switch to tf.sets.difference().\n",
      "for epoch 0, binary_crossentropy is [[7.16158322 7.7124742  7.82566197 ... 4.02388295 6.61069225 8.26336525]\n",
      " [4.8000676  5.80673284 3.57289538 ... 3.9040786  3.94918877 4.40642572]\n",
      " [6.74377552 5.50610165 5.95917835 ... 4.67402195 4.20270205 6.88095243]\n",
      " ...\n",
      " [8.26336525 6.6106922  6.6106922  ... 4.40712813 6.6106922  8.82293148]\n",
      " [7.16158322 5.50891051 4.40712813 ... 5.50891017 5.50891017 7.71207387]\n",
      " [5.77879705 8.37136913 5.60643925 ... 6.36359746 4.27308582 6.05089078]]\n",
      "for epoch 1, binary_crossentropy is [[1.10178203 2.20356407 1.10178203 ... 0.10501928 2.20356407 0.55089102]\n",
      " [1.27889086 2.98592607 1.56608935 ... 0.70428944 1.50094575 0.33559257]\n",
      " [1.15399524 1.50860897 1.4934998  ... 0.20415442 1.28478539 0.23090227]\n",
      " ...\n",
      " [1.10178203 2.20356407 1.10178203 ... 0.55089102 2.20356407 0.55089102]\n",
      " [1.10178203 2.20356407 1.10178203 ... 0.55089102 2.20356407 0.55089102]\n",
      " [1.1116825  2.34914266 1.2687382  ... 0.23982785 1.38945482 0.61227022]]\n",
      "for epoch 2, binary_crossentropy is [[1.10178203 2.20356407 1.10178203 ... 0.10501928 2.20356407 0.55089102]\n",
      " [1.27889086 2.98592607 1.56608935 ... 0.70428944 1.50094575 0.33559257]\n",
      " [1.15399524 1.50860897 1.4934998  ... 0.20415442 1.28478539 0.23090227]\n",
      " ...\n",
      " [1.10178203 2.20356407 1.10178203 ... 0.55089102 2.20356407 0.55089102]\n",
      " [1.10178203 2.20356407 1.10178203 ... 0.55089102 2.20356407 0.55089102]\n",
      " [1.1116825  2.34914266 1.2687382  ... 0.23982785 1.38945482 0.61227022]]\n",
      "for epoch 3, binary_crossentropy is [[1.10178203 2.20356407 1.10178203 ... 0.10501928 2.20356407 0.55089102]\n",
      " [1.27889086 2.98592607 1.56608935 ... 0.70428944 1.50094575 0.33559257]\n",
      " [1.15399524 1.50860897 1.4934998  ... 0.20415442 1.28478539 0.23090227]\n",
      " ...\n",
      " [1.10178203 2.20356407 1.10178203 ... 0.55089102 2.20356407 0.55089102]\n",
      " [1.10178203 2.20356407 1.10178203 ... 0.55089102 2.20356407 0.55089102]\n",
      " [1.1116825  2.34914266 1.2687382  ... 0.23982785 1.38945482 0.61227022]]\n",
      "for epoch 4, binary_crossentropy is [[1.10178203 2.20356407 1.10178203 ... 0.10501928 2.20356407 0.55089102]\n",
      " [1.27889086 2.98592607 1.56608935 ... 0.70428944 1.50094575 0.33559257]\n",
      " [1.15399524 1.50860897 1.4934998  ... 0.20415442 1.28478539 0.23090227]\n",
      " ...\n",
      " [1.10178203 2.20356407 1.10178203 ... 0.55089102 2.20356407 0.55089102]\n",
      " [1.10178203 2.20356407 1.10178203 ... 0.55089102 2.20356407 0.55089102]\n",
      " [1.1116825  2.34914266 1.2687382  ... 0.23982785 1.38945482 0.61227022]]\n",
      "for epoch 5, binary_crossentropy is [[1.10178203 2.20356407 1.10178203 ... 0.10501928 2.20356407 0.55089102]\n",
      " [1.27889086 2.98592607 1.56608935 ... 0.70428944 1.50094575 0.33559257]\n",
      " [1.15399524 1.50860897 1.4934998  ... 0.20415442 1.28478539 0.23090227]\n",
      " ...\n",
      " [1.10178203 2.20356407 1.10178203 ... 0.55089102 2.20356407 0.55089102]\n",
      " [1.10178203 2.20356407 1.10178203 ... 0.55089102 2.20356407 0.55089102]\n",
      " [1.1116825  2.34914266 1.2687382  ... 0.23982785 1.38945482 0.61227022]]\n",
      "for epoch 6, binary_crossentropy is [[1.10178203 2.20356407 1.10178203 ... 0.10501928 2.20356407 0.55089102]\n",
      " [1.27889086 2.98592607 1.56608935 ... 0.70428944 1.50094575 0.33559257]\n",
      " [1.15399524 1.50860897 1.4934998  ... 0.20415442 1.28478539 0.23090227]\n",
      " ...\n",
      " [1.10178203 2.20356407 1.10178203 ... 0.55089102 2.20356407 0.55089102]\n",
      " [1.10178203 2.20356407 1.10178203 ... 0.55089102 2.20356407 0.55089102]\n",
      " [1.1116825  2.34914266 1.2687382  ... 0.23982785 1.38945482 0.61227022]]\n",
      "for epoch 7, binary_crossentropy is [[1.10178203 2.20356407 1.10178203 ... 0.10501928 2.20356407 0.55089102]\n",
      " [1.27889086 2.98592607 1.56608935 ... 0.70428944 1.50094575 0.33559257]\n",
      " [1.15399524 1.50860897 1.4934998  ... 0.20415442 1.28478539 0.23090227]\n",
      " ...\n",
      " [1.10178203 2.20356407 1.10178203 ... 0.55089102 2.20356407 0.55089102]\n",
      " [1.10178203 2.20356407 1.10178203 ... 0.55089102 2.20356407 0.55089102]\n",
      " [1.1116825  2.34914266 1.2687382  ... 0.23982785 1.38945482 0.61227022]]\n",
      "for epoch 8, binary_crossentropy is [[1.10178203 2.20356407 1.10178203 ... 0.10501928 2.20356407 0.55089102]\n",
      " [1.27889086 2.98592607 1.56608935 ... 0.70428944 1.50094575 0.33559257]\n",
      " [1.15399524 1.50860897 1.4934998  ... 0.20415442 1.28478539 0.23090227]\n",
      " ...\n",
      " [1.10178203 2.20356407 1.10178203 ... 0.55089102 2.20356407 0.55089102]\n",
      " [1.10178203 2.20356407 1.10178203 ... 0.55089102 2.20356407 0.55089102]\n",
      " [1.1116825  2.34914266 1.2687382  ... 0.23982785 1.38945482 0.61227022]]\n",
      "for epoch 9, binary_crossentropy is [[1.10178203 2.20356407 1.10178203 ... 0.10501928 2.20356407 0.55089102]\n",
      " [1.27889086 2.98592607 1.56608935 ... 0.70428944 1.50094575 0.33559257]\n",
      " [1.15399524 1.50860897 1.4934998  ... 0.20415442 1.28478539 0.23090227]\n",
      " ...\n",
      " [1.10178203 2.20356407 1.10178203 ... 0.55089102 2.20356407 0.55089102]\n",
      " [1.10178203 2.20356407 1.10178203 ... 0.55089102 2.20356407 0.55089102]\n",
      " [1.1116825  2.34914266 1.2687382  ... 0.23982785 1.38945482 0.61227022]]\n",
      "model has been saved\n"
     ]
    }
   ],
   "source": [
    "testmodel.train(X_train,X_train,epochs=10,save_name='weights_bias')"
   ]
  },
  {
   "cell_type": "code",
   "execution_count": null,
   "metadata": {},
   "outputs": [],
   "source": []
  },
  {
   "cell_type": "code",
   "execution_count": 11,
   "metadata": {},
   "outputs": [],
   "source": [
    "X_predict=testmodel.predict(X_train)"
   ]
  },
  {
   "cell_type": "code",
   "execution_count": 12,
   "metadata": {},
   "outputs": [
    {
     "data": {
      "image/png": "[encoded data removed]",
      "text/plain": [
       "<Figure size 432x288 with 10 Axes>"
      ]
     },
     "metadata": {
      "needs_background": "light"
     },
     "output_type": "display_data"
    }
   ],
   "source": [
    "figure,ax=plt.subplots(2,5)\n",
    "for i in range(5):\n",
    "    ax[0][i].imshow(X_train[i])\n",
    "for i in range(5):\n",
    "    ax[1][i].imshow(X_predict[i])"
   ]
  },
  {
   "cell_type": "code",
   "execution_count": null,
   "metadata": {},
   "outputs": [],
   "source": []
  }
 ],
 "metadata": {
  "kernelspec": {
   "display_name": "Python 3",
   "language": "python",
   "name": "python3"
  },
  "language_info": {
   "codemirror_mode": {
    "name": "ipython",
    "version": 3
   },
   "file_extension": ".py",
   "mimetype": "text/x-python",
   "name": "python",
   "nbconvert_exporter": "python",
   "pygments_lexer": "ipython3",
   "version": "3.7.5"
  }
 },
 "nbformat": 4,
 "nbformat_minor": 4
}
