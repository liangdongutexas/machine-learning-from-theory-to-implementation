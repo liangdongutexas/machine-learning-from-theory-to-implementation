{
 "cells": [
  {
   "cell_type": "code",
   "execution_count": 11,
   "metadata": {},
   "outputs": [],
   "source": [
    "import numpy as np\n",
    "import matplotlib.pyplot as plt"
   ]
  },
  {
   "cell_type": "code",
   "execution_count": 7,
   "metadata": {},
   "outputs": [
    {
     "data": {
      "text/plain": [
       "array([0.16640353, 0.4236076 , 0.51549934, 0.53838682, 0.58728024,\n",
       "       0.51651843, 0.59893376, 0.13440791, 0.94127799, 0.47391072])"
      ]
     },
     "execution_count": 7,
     "metadata": {},
     "output_type": "execute_result"
    }
   ],
   "source": [
    "np.random.rand(10,)"
   ]
  },
  {
   "cell_type": "markdown",
   "metadata": {},
   "source": [
    "# Generating Sampling\n",
    "Suppose we know how to sample from a distribution $q(x)$, then we can sample arbitrary distribution $p(y)$ related to $q(x)$ by a transformation $Y=f(X)$, where \n",
    "\\begin{align}\n",
    "p(y)=\\frac{q(x)}{|f^{\\prime}(x)|}.\n",
    "\\end{align}\n",
    "Particularly, when $X\\sim U(0,1)$ and $f$ is the inverse CDF of $Y$, we have $p(y)$ just as the pdf of $Y$."
   ]
  },
  {
   "cell_type": "code",
   "execution_count": null,
   "metadata": {},
   "outputs": [],
   "source": [
    "class sampling(object):\n",
    "    def __init__(self):\n",
    "        pass\n",
    "    def generating(self):\n",
    "    def accept_rej(self,n,M):\n",
    "        self.a_r_sample=[]\n",
    "        while len(self.a_r_sample)<n:\n",
    "            theta,U=np.random.rand(2)\n",
    "            p_theta=self.kernel(theta)\n",
    "            if M*U<=p_theta:\n",
    "                self.a_r_sample.append(theta)\n",
    "                \n",
    "        y,x=np.histogram(self.a_r_sample)\n",
    "        plt.scatter(x[:-1],y/sum(y))\n",
    "        \n",
    "        return self.a_r_sample"
   ]
  },
  {
   "cell_type": "markdown",
   "metadata": {},
   "source": [
    "# Acceptance-Rejection Sampling\n",
    "We want to sample from a univariate distrubtion function $p(\\theta)$. We may only know the kernel of the density say $p_*(\\theta)$. The method is to find another $q(\\theta)$ distribution with the same domain which is easy to sample and a constant $M$ such that\n",
    "\\begin{align}\n",
    "p_*(\\theta)\\leq Mq(\\theta)\n",
    "\\end{align}\n",
    "for all values of $\\theta$.\n",
    "\n",
    "Then a unit $\\theta$ sampled from $q$ is accepted with the probability \n",
    "\\begin{align}\n",
    "Pr(Mq(\\theta)U\\leq p_*(\\theta)),\n",
    "\\end{align}\n",
    "where $U\\sim U[0,1]$ is a random variable satisfying uniform distribution.\n",
    "\n",
    "To prove that the sampled data satisfies the distribution $p(\\theta)$, we calculate the probability density under the condition that the data is accepted:\n",
    "\\begin{align}\n",
    "P(\\theta|A)&=\\frac{P(A|\\theta)q(\\theta)}{P(A)}\\\\\n",
    "            &=\\frac{P(Mq(\\theta)U\\leq p_*(\\theta)|\\theta)q(\\theta)}{\\int d\\theta P(A,\\theta)}\\\\\n",
    "            &=\\frac{P(U\\leq \\frac{p_*(\\theta)}{Mq(\\theta)}|\\theta) q(\\theta)}{\\int d\\theta P(A,\\theta)}\\\\\n",
    "            &=\\frac{\\frac{p_*(\\theta)}{Mq(\\theta)}q(\\theta)}{\\int d\\theta P(A,\\theta)}\\\\\n",
    "            &=\\frac{\\frac{p_*(\\theta)}{M}}{\\int d\\theta \\frac{p_*(\\theta)}{M}}\\\\\n",
    "            &=p(\\theta)\n",
    "\\end{align}"
   ]
  },
  {
   "cell_type": "code",
   "execution_count": 61,
   "metadata": {},
   "outputs": [],
   "source": [
    "class sampling(object):\n",
    "    def __init__(self):\n",
    "        pass\n",
    "    def accept_rej(self,n,M):\n",
    "        self.a_r_sample=[]\n",
    "        while len(self.a_r_sample)<n:\n",
    "            theta,U=np.random.rand(2)\n",
    "            p_theta=self.kernel(theta)\n",
    "            if M*U<=p_theta:\n",
    "                self.a_r_sample.append(theta)\n",
    "                \n",
    "        y,x=np.histogram(self.a_r_sample)\n",
    "        plt.scatter(x[:-1],y/sum(y))\n",
    "        \n",
    "        return self.a_r_sample"
   ]
  },
  {
   "cell_type": "markdown",
   "metadata": {},
   "source": [
    "### Example \n",
    "Next, we use the acceptance-rejection method to sample the beta distribution. The pdf of beta distribution reads:\n",
    "\\begin{align}\n",
    "p(\\theta)=\\frac{\\Gamma(a+b)}{\\Gamma(a)\\Gamma(b)}\\theta^{a-1}(1-\\theta)^{b-1}I_{(0,1)}(\\theta).\n",
    "\\end{align}\n",
    "We can conveniently choose $p_{*}(\\theta)=\\theta^{a-1}(1-\\theta)^{b-1}I_{(0,1)}(\\theta)$. \n",
    "Then we plot the kernel: "
   ]
  },
  {
   "cell_type": "code",
   "execution_count": 62,
   "metadata": {},
   "outputs": [
    {
     "data": {
      "text/plain": [
       "<matplotlib.collections.PathCollection at 0x7fb7f67537d0>"
      ]
     },
     "execution_count": 62,
     "metadata": {},
     "output_type": "execute_result"
    },
    {
     "data": {
      "image/png": "[encoded data removed]",
      "text/plain": [
       "<Figure size 432x288 with 1 Axes>"
      ]
     },
     "metadata": {
      "needs_background": "light"
     },
     "output_type": "display_data"
    }
   ],
   "source": [
    "class beta_dis(sampling):\n",
    "    def __init__(self,a,b):\n",
    "        self.a=a\n",
    "        self.b=b\n",
    "    def kernel(self,x):\n",
    "        return np.power(x,self.a-1)*np.power(1-x,self.b-1)\n",
    "       \n",
    "beta=beta_dis(3,3)\n",
    "x=np.arange(0,1,0.01)\n",
    "y=beta.kernel(x)\n",
    "plt.scatter(x,y)"
   ]
  },
  {
   "cell_type": "markdown",
   "metadata": {},
   "source": [
    "First, lets choose $q(\\theta)=U(0,1)$ and $M=0.07$. Then we achieve a sample with length $n=1000$."
   ]
  },
  {
   "cell_type": "code",
   "execution_count": 63,
   "metadata": {},
   "outputs": [
    {
     "data": {
      "image/png": "[encoded data removed]",
      "text/plain": [
       "<Figure size 432x288 with 1 Axes>"
      ]
     },
     "metadata": {
      "needs_background": "light"
     },
     "output_type": "display_data"
    }
   ],
   "source": [
    "sample=beta.accept_rej(n=10000,M=0.07)"
   ]
  },
  {
   "cell_type": "markdown",
   "metadata": {},
   "source": [
    "# Markov Chain\n",
    "A Markov Chain is a random process $\\theta^{t}$ where \n",
    "\\begin{align}\n",
    "Pr(\\theta^k\\in A|\\theta^1,...,\\theta^{k-1})=Pr(\\theta^k\\in A|\\theta^{k-1}).\n",
    "\\end{align}\n",
    "Thus the probability at time $k$ reads:\n",
    "\\begin{align} \n",
    "Pr(\\theta^k\\in A)&=\\int_{A} \\int...\\int q(\\theta^1,...,\\theta^{k-1},\\theta^k)\\\\\n",
    "                 &=\\int_{A} \\int...\\int q_{k|k-1}(\\theta^k|\\theta^1,...,\\theta^{k-1})q_{k-1|k-2}(\\theta^{k-1}|\\theta^1,...,\\theta^{k-2})...q_{2|1}(\\theta^2|\\theta^1)p_1(\\theta^1)\\\\\n",
    "                 &=\\int_{A} \\int...\\int q_{k|k-1}(\\theta^k|\\theta^{k-1})q_{k-1|k-2}(\\theta^{k-1}|\\theta^{k-2})...q_{2|1}(\\theta^2|\\theta^1)q_1(\\theta^1).\\label{eq:1}\n",
    "\\end{align}\n",
    "In the case of stationary transition probabilities, we have the same transition kernel at each time $q(u|v)$. Then the above equation becomes:\n",
    "\\begin{align} \n",
    "Pr(\\theta^k\\in A)=\\int_{A} \\int...\\int q(\\theta^k|\\theta^{k-1})q(\\theta^{k-1}|\\theta^{k-2})...q(\\theta^2|\\theta^1)q_1(\\theta^1).\\label{eq:2}\n",
    "\\end{align}\n",
    "An interesting phenomenon happens if at some time the distribution $q(\\theta^{*})$ satisfies the following relation:\n",
    "\\begin{align}\n",
    "q(\\theta)=\\int q(\\theta|\\theta^{*})q(\\theta^{*})d\\theta^*.\n",
    "\\end{align}\n",
    "Then all random variables after this time has the identical pdf. This is the spirit of Markov Chain Monte Carlo. If we can construct a Markov Chain which has the stationary distribution same as the distribution we would like to sample, then we can use the random variables after station as the sampling of that distribution. However, to achieve this we relies on two assumptions: (1) we can find the starting distribution after which the Markov Chain can automatically goes into stationary distribution and the starting distribution can be sampled; (2) the Markov Chain only has one stationary distribution or we can controll which stationary distribution the Markov Chain evovles into."
   ]
  },
  {
   "cell_type": "markdown",
   "metadata": {},
   "source": [
    "## Metropolis Algorithm\n",
    "The Metropolis algorithm construct the Markov Chain according to the following step:\n",
    "1. Given the previous realization $\\theta^{k}$, generates a new $\\theta^{*}$ according to a candidate generating distribution:  $h(\\theta^{*}|\\theta^{k})$.\n",
    "2. $\\theta^*$ is accepted or rejected according to the probability $\\alpha=\\min\\{1,\\frac{q(\\theta^*)h(\\theta^{k}|\\theta^*)}{q(\\theta^{k})h(\\theta^*|\\theta^{k})}\\}$.\n",
    "Basicly,\n",
    "\\begin{align}\n",
    "\\theta^{k+1}=\\begin{cases}\\theta^{*} \\ with\\ probability\\ \\ \\alpha,\\\\\n",
    "\\theta^{k} \\  with\\ probability\\ \\ 1-\\alpha.\n",
    "\\\\\n",
    "\\end{cases}\n",
    "\\end{align}\n",
    "\n",
    "Next, we prove that  $q(\\theta)$ is the stationary distribution generated this way.\n",
    "\\begin{align}\n",
    "p(\\theta^{k+1})=&\\int d\\theta^{k}q(\\theta^{k+1}|\\theta^{k})q(\\theta^{k})\\\\\n",
    "=&\\int d\\theta^{k}\\int d\\theta^{*}[\\delta(\\theta^{k+1}-\\theta^{*})\\alpha(\\theta^{k},\\theta^{*})h(\\theta^{*}|\\theta^{k})q(\\theta^{k})\\\\\n",
    "\t&+\\delta(\\theta^{k+1}-\\theta^{k})(1-\\alpha(\\theta^{k},\\theta^{*}))h(\\theta^{*}|\\theta^{k})q(\\theta^{k})]\\\\\n",
    "=&\t\\int d\\theta^{k}\\alpha(\\theta^{k},\\theta^{k+1})h(\\theta^{k+1}|\\theta^{k})q(\\theta^{k})\n",
    "\t+\\int d\\theta^{*}(1-\\alpha(\\theta^{k+1},\\theta^{*}))h(\\theta^{*}|\\theta^{k+1})q(\\theta^{k+1})]\\\\\n",
    "=&\t\\int d\\theta^{*}[\\alpha(\\theta^{*},\\theta^{k+1})h(\\theta^{k+1}|\\theta^{*})q(\\theta^{*})+(1-\\alpha(\\theta^{k+1},\\theta^{*}))h(\\theta^{*}|\\theta^{k+1})q(\\theta^{k+1})]\\\\\n",
    "=&\t[\\int_{\\alpha(\\theta^{*},\\theta^{k+1})\\leq1}+\\int_{\\alpha(\\theta^{*},\\theta^{k+1})=1}][\\alpha(\\theta^{*},\\theta^{k+1})h(\\theta^{k+1}|\\theta^{*})q(\\theta^{*})+(1-\\alpha(\\theta^{k+1},\\theta^{*}))h(\\theta^{*}|\\theta^{k+1})q(\\theta^{k+1})]\\\\\n",
    "=&\t\\int_{\\alpha(\\theta^{*},\\theta^{k+1})\\leq1}\\frac{q(\\theta^{k+1})h(\\theta^{*}|\\theta^{k+1})}{q(\\theta^{*})h(\\theta^{k+1}|\\theta^{*})}h(\\theta^{k+1}|\\theta^{*})q(\\theta^{*})\\\\\n",
    "\t&+\\int_{\\alpha(\\theta^{*},\\theta^{k+1})=1}[h(\\theta^{k+1}|\\theta^{*})q(\\theta^{*})+(1-\\frac{q(\\theta^{*})h(\\theta^{k+1}|\\theta^{*})}{q(\\theta^{k+1})h(\\theta^{*}|\\theta^{k+1})})h(\\theta^{*}|\\theta^{k+1})q(\\theta^{k+1})]\\\\\n",
    "=&\t\\int_{\\alpha(\\theta^{*},\\theta^{k+1})\\leq1}q(\\theta^{k+1})h(\\theta^{*}|\\theta^{k+1})\n",
    "\t+\\int_{\\alpha(\\theta^{*},\\theta^{k+1})=1}\t[h(\\theta^{k+1}|\\theta^{*})q(\\theta^{*})+h(\\theta^{*}|\\theta^{k+1})q(\\theta^{k+1})-q(\\theta^{*})h(\\theta^{k+1}|\\theta^{*})]\\\\\n",
    "=&\t\\int_{\\alpha(\\theta^{*},\\theta^{k+1})\\leq1}q(\\theta^{k+1})h(\\theta^{*}|\\theta^{k+1})+\\int_{\\alpha(\\theta^{*},\\theta^{k+1})=1}[h(\\theta^{*}|\\theta^{k+1})q(\\theta^{k+1})]\\\\\n",
    "=&\t\\int_{\\alpha}d\\theta^{*}q(\\theta^{k+1})h(\\theta^{*}|\\theta^{k+1})\\\\\n",
    "=&\tq(\\theta^{k+1})\n",
    "\\end{align}"
   ]
  },
  {
   "cell_type": "code",
   "execution_count": null,
   "metadata": {},
   "outputs": [],
   "source": [
    "class sampling(object):\n",
    "    def __init__(self):\n",
    "        pass\n",
    "    def accept_rej(self,n,M):\n",
    "        self.a_r_sample=[]\n",
    "        while len(self.a_r_sample)<n:\n",
    "            theta,U=np.random.rand(2)\n",
    "            p_theta=self.kernel(theta)\n",
    "            if M*U<=p_theta:\n",
    "                self.a_r_sample.append(theta)\n",
    "                \n",
    "        y,x=np.histogram(self.a_r_sample)\n",
    "        plt.scatter(x[:-1],y/sum(y))\n",
    "        \n",
    "        return self.a_r_sample\n",
    "    def metropolis(self,h):\n",
    "        "
   ]
  },
  {
   "cell_type": "code",
   "execution_count": null,
   "metadata": {},
   "outputs": [],
   "source": []
  },
  {
   "cell_type": "code",
   "execution_count": 70,
   "metadata": {},
   "outputs": [],
   "source": []
  },
  {
   "cell_type": "code",
   "execution_count": 71,
   "metadata": {},
   "outputs": [],
   "source": []
  },
  {
   "cell_type": "code",
   "execution_count": null,
   "metadata": {},
   "outputs": [],
   "source": []
  }
 ],
 "metadata": {
  "kernelspec": {
   "display_name": "Python 3",
   "language": "python",
   "name": "python3"
  },
  "language_info": {
   "codemirror_mode": {
    "name": "ipython",
    "version": 3
   },
   "file_extension": ".py",
   "mimetype": "text/x-python",
   "name": "python",
   "nbconvert_exporter": "python",
   "pygments_lexer": "ipython3",
   "version": "3.8.5"
  }
 },
 "nbformat": 4,
 "nbformat_minor": 4
}
